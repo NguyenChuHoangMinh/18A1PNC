{
 "cells": [
  {
   "cell_type": "markdown",
   "id": "e8f4c2c1",
   "metadata": {},
   "source": [
    "BÀI TẬP VẬN DỤNG CHƯƠNG 1"
   ]
  },
  {
   "cell_type": "markdown",
   "id": "25687ee6",
   "metadata": {},
   "source": [
    "Bài 1:"
   ]
  },
  {
   "cell_type": "code",
   "execution_count": 9,
   "id": "3a4c5f99",
   "metadata": {},
   "outputs": [
    {
     "name": "stdout",
     "output_type": "stream",
     "text": [
      "Chiều dài: 5.0, Chiều rộng: 3.0, Chu vi: 16.00, Diện tích: 15.00\n"
     ]
    }
   ],
   "source": [
    "class HCN:\n",
    "    def __init__(self, dai: float = 5, rong: float = 3):\n",
    "        self.dai = float(dai)\n",
    "        self.rong = float(rong)\n",
    "\n",
    "    def chuvi (self):\n",
    "        return (self.dai + self.rong)*2\n",
    "    def dientich (self):\n",
    "        return self.dai*self.rong\n",
    "    \n",
    "    def display (self):\n",
    "         print(f\"Chiều dài: {self.dai}, Chiều rộng: {self.rong}, Chu vi: {self.chuvi():.2f}, Diện tích: {self.dientich():.2f}\")\n",
    "\n",
    "hcn = HCN()\n",
    "hcn.display()"
   ]
  },
  {
   "cell_type": "code",
   "execution_count": null,
   "id": "8bce6369",
   "metadata": {},
   "outputs": [],
   "source": [
    "dai = float(input(\"Nhập chiều dài: \"))\n",
    "rong = float(input(\"Nhập chiều rộng: \"))\n",
    "hcn = HCN(dai, rong)\n",
    "hcn.display()"
   ]
  },
  {
   "cell_type": "markdown",
   "id": "4909d8ce",
   "metadata": {},
   "source": [
    "Bài 2:"
   ]
  },
  {
   "cell_type": "code",
   "execution_count": null,
   "id": "d0227649",
   "metadata": {},
   "outputs": [
    {
     "name": "stdout",
     "output_type": "stream",
     "text": [
      "Họ tên: Minh, Toán: 3.6, Lý: 3.6, Hóa: 3.6, Tổng: 10.80\n"
     ]
    }
   ],
   "source": [
    "class TS:\n",
    "    def __init__(self, hoten=\"\", toan=0, ly=0, hoa=0):\n",
    "        self.hoten = hoten\n",
    "        self.toan = float(toan)\n",
    "        self.ly = float(ly)\n",
    "        self.hoa = float(hoa)\n",
    "\n",
    "    # Pt nhập thông tin ts\n",
    "    def nhap(self):\n",
    "        self.hoten = input(\"Nhập họ tên thí sinh: \")\n",
    "        self.toan = float(input(\"Nhập điểm Toán: \"))\n",
    "        self.ly = float(input(\"Nhập điểm Lý: \"))\n",
    "        self.hoa = float(input(\"Nhập điểm Hóa: \"))\n",
    "\n",
    "    # Pt tính tổng điểm\n",
    "    def tongdiem(self):\n",
    "        return self.toan + self.ly + self.hoa\n",
    "\n",
    "    # Pt hiển thị thông tin ts\n",
    "    def display(self):\n",
    "        print(f\"Họ tên: {self.hoten}, Toán: {self.toan}, Lý: {self.ly}, Hóa: {self.hoa}, Tổng: {self.tongdiem():.2f}\")\n",
    "\n",
    "thisinh = TS()\n",
    "thisinh.nhap()\n",
    "thisinh.display()"
   ]
  },
  {
   "cell_type": "code",
   "execution_count": null,
   "id": "deebb0f5",
   "metadata": {},
   "outputs": [
    {
     "name": "stdout",
     "output_type": "stream",
     "text": [
      "Họ tên: Trần Thị B, Toán: 9.0, Lý: 8.0, Hóa: 7.0, Tổng: 24.00\n",
      "Họ tên: Nguyễn Văn A, Toán: 8.0, Lý: 7.5, Hóa: 6.5, Tổng: 22.00\n"
     ]
    }
   ],
   "source": [
    "# Nhập họ tên và điểm ds thí sinh\n",
    "ds_thi_sinh = [\n",
    "    TS(\"Nguyễn Văn A\", 8.0, 7.5, 6.5),\n",
    "    TS(\"Trần Thị B\", 9.0, 8.0, 7.0),\n",
    "    TS(\"Lê Văn C\", 6.0, 6.5, 5.0)\n",
    "]\n",
    "\n",
    "# Sx ds theo tổng điểm giảm dần\n",
    "ds_thi_sinh.sort(key=lambda ts: ts.tongdiem(), reverse=True)\n",
    "\n",
    "# Gthiet điểm chuẩn là 20\n",
    "diem_chuan = 20\n",
    "for ts in ds_thi_sinh:\n",
    "    if ts.tongdiem() >= diem_chuan:\n",
    "        ts.display()"
   ]
  },
  {
   "cell_type": "markdown",
   "id": "5f0d6e55",
   "metadata": {},
   "source": [
    "Bài 3:"
   ]
  },
  {
   "cell_type": "code",
   "execution_count": null,
   "id": "b47a2a14",
   "metadata": {},
   "outputs": [],
   "source": [
    "class PS:\n",
    "\n",
    "    def __init__(self, tu: int, mau: int):\n",
    "        self.tu = tu\n",
    "        self.mau = mau\n",
    "\n",
    "    def kiem_tra_hop_le(self):\n",
    "        return self.mau != 0\n",
    "\n",
    "    def display(self):\n",
    "        hop_le = self.kiem_tra_hop_le()\n",
    "        thong_bao = [\n",
    "            \"Phân số không hợp lệ\",\n",
    "            \"Phân số hợp lệ\"\n",
    "        ]\n",
    "        print(f\"Phân số: {self.tu}/{self.mau} | {thong_bao[hop_le]}\")"
   ]
  },
  {
   "cell_type": "code",
   "execution_count": 19,
   "id": "32385e7d",
   "metadata": {},
   "outputs": [
    {
     "name": "stdout",
     "output_type": "stream",
     "text": [
      "Phân số: 3/4 | Phân số hợp lệ\n"
     ]
    }
   ],
   "source": [
    "# Tạo một đối tượng thuộc lớp PS và gán giá trị ngay khi khởi tạo\n",
    "ps1 = PS(3, 4)\n",
    "ps1.display()"
   ]
  },
  {
   "cell_type": "code",
   "execution_count": 20,
   "id": "f03e7d91",
   "metadata": {},
   "outputs": [
    {
     "name": "stdout",
     "output_type": "stream",
     "text": [
      "Phân số: 5/0 | Phân số không hợp lệ (mẫu số = 0)\n"
     ]
    }
   ],
   "source": [
    "ps2 = PS(5, 0)\n",
    "ps2.display()"
   ]
  },
  {
   "cell_type": "markdown",
   "id": "db559691",
   "metadata": {},
   "source": [
    "Bài 4:"
   ]
  },
  {
   "cell_type": "code",
   "execution_count": 79,
   "id": "7da2f3a5",
   "metadata": {},
   "outputs": [],
   "source": [
    "class Stack:\n",
    "    #Hàm tạo\n",
    "    def __init__(self, size: int):\n",
    "        self.size = size\n",
    "        self.items = [0.0] * size\n",
    "        self.top = -1\n",
    "\n",
    "    #Hàm huỷ\n",
    "    def __del__(self):\n",
    "        print(\"Đối tượng Stack đã được hủy\")\n",
    "\n",
    "    #Đưa phần tử vào ngăn xếp\n",
    "    def push(self, value: float):\n",
    "        self.top = self.top + 1\n",
    "        self.items[self.top] = value\n",
    "\n",
    "    #Lấy phần tử ra khỏi ngăn xếp\n",
    "    def pop(self):\n",
    "        value = self.items[self.top]\n",
    "        self.top = self.top - 1\n",
    "        print(\"Phần tử vừa lấy ra:\")\n",
    "        return value\n",
    "\n",
    "    #Kiểm tra ngăn xếp rỗng\n",
    "    def isEmpty(self):\n",
    "        return self.top == -1\n",
    "\n",
    "    #Kiểm tra ngăn xếp đầy\n",
    "    def isFull(self):\n",
    "        return self.top == self.size - 1\n"
   ]
  },
  {
   "cell_type": "code",
   "execution_count": 80,
   "id": "a9d8aca2",
   "metadata": {},
   "outputs": [
    {
     "name": "stdout",
     "output_type": "stream",
     "text": [
      "Đối tượng Stack đã được hủy\n",
      "Phần tử vừa lấy ra:\n"
     ]
    },
    {
     "data": {
      "text/plain": [
       "3.5"
      ]
     },
     "execution_count": 80,
     "metadata": {},
     "output_type": "execute_result"
    }
   ],
   "source": [
    "# Ứng dụng\n",
    "stk = Stack(3)\n",
    "stk.push(1.5)\n",
    "stk.push(2.5)\n",
    "stk.push(3.5)\n",
    "stk.pop()"
   ]
  },
  {
   "cell_type": "markdown",
   "id": "1bad9942",
   "metadata": {},
   "source": [
    "Bài 5:"
   ]
  },
  {
   "cell_type": "code",
   "execution_count": 52,
   "id": "1b2f2a1b",
   "metadata": {},
   "outputs": [],
   "source": [
    "class Stack:  \n",
    "    def __init__(self, size: int):\n",
    "        self.size = size\n",
    "        self.items = [0.0] * size\n",
    "        self.top = -1\n",
    "\n",
    "    def push(self, value: float):\n",
    "        self.top = self.top + 1\n",
    "        self.items[self.top] = value\n",
    "\n",
    "    def pop(self):\n",
    "        value = self.items[self.top]\n",
    "        self.top = self.top - 1\n",
    "        return value\n",
    "    \n",
    "#Trả về số phần tử hiện có trong ngăn xếp\n",
    "    def count(self):\n",
    "        print(\"Số phần tử trong ngăn xếp:\")\n",
    "        return self.top + 1\n",
    "        "
   ]
  },
  {
   "cell_type": "code",
   "execution_count": 53,
   "id": "3a58c667",
   "metadata": {},
   "outputs": [
    {
     "name": "stdout",
     "output_type": "stream",
     "text": [
      "Số phần tử trong ngăn xếp:\n"
     ]
    },
    {
     "data": {
      "text/plain": [
       "3"
      ]
     },
     "execution_count": 53,
     "metadata": {},
     "output_type": "execute_result"
    }
   ],
   "source": [
    "# Ứng dụng\n",
    "stk = Stack(5)\n",
    "stk.push(10.0)\n",
    "stk.push(20.0)\n",
    "stk.push(30.0)\n",
    "stk.count()"
   ]
  },
  {
   "cell_type": "markdown",
   "id": "f0eb20bd",
   "metadata": {},
   "source": [
    "Bài 6:"
   ]
  },
  {
   "cell_type": "code",
   "execution_count": 48,
   "id": "044afb73",
   "metadata": {},
   "outputs": [],
   "source": [
    "class Stack:  \n",
    "    def __init__(self, size: int):\n",
    "        self.size = size\n",
    "        self.items = [0.0] * size\n",
    "        self.top = -1\n",
    "\n",
    "    def push(self, value: float):\n",
    "        self.top = self.top + 1\n",
    "        self.items[self.top] = value\n",
    "\n",
    "    def pop(self):\n",
    "        value = self.items[self.top]\n",
    "        self.top = self.top - 1\n",
    "        return value\n",
    "\n",
    "    #In toàn bộ nội dung ngăn xếp\n",
    "    def print(self):\n",
    "        print(\"Nội dung ngăn xếp:\")\n",
    "        print(self.items[:self.top + 1])"
   ]
  },
  {
   "cell_type": "code",
   "execution_count": 49,
   "id": "21c6c5db",
   "metadata": {},
   "outputs": [
    {
     "name": "stdout",
     "output_type": "stream",
     "text": [
      "Nội dung ngăn xếp:\n",
      "[1.1, 2.2, 3.3]\n"
     ]
    }
   ],
   "source": [
    "# Ứng dụng\n",
    "stk = Stack(4)\n",
    "stk.push(1.1)\n",
    "stk.push(2.2)\n",
    "stk.push(3.3)\n",
    "stk.print()"
   ]
  },
  {
   "cell_type": "markdown",
   "id": "0aeaecf2",
   "metadata": {},
   "source": [
    "Bài 7:"
   ]
  },
  {
   "cell_type": "code",
   "execution_count": null,
   "id": "4e638843",
   "metadata": {},
   "outputs": [],
   "source": [
    "class Date:\n",
    "    def __init__(self, day:int, month:int, year:int):\n",
    "        self.day = day\n",
    "        self.month = month\n",
    "        self.year = year\n",
    "\n",
    "    def display(self):\n",
    "        print(f\"{self.day:02d}/{self.month:02d}/{self.year}\")\n",
    "\n",
    "    #TÍnh ngày tiếp theo\n",
    "    def next(self):\n",
    "        # Số ngày của từng tháng\n",
    "        month_days = [31, 28, 31, 30, 31, 30, 31, 31, 30, 31, 30, 31]\n",
    "\n",
    "        # Kiểm tra năm nhuận\n",
    "        if (self.year % 400 == 0) or ((self.year % 4 == 0) and (self.year % 100 != 0)):\n",
    "            month_days[1] = 29\n",
    "\n",
    "        self.day += 1\n",
    "        if self.day > month_days[self.month - 1]:\n",
    "            self.day = 1\n",
    "            self.month += 1\n",
    "            if self.month > 12:\n",
    "                self.month = 1\n",
    "                self.year += 1\n"
   ]
  },
  {
   "cell_type": "code",
   "execution_count": 60,
   "id": "33bf0520",
   "metadata": {},
   "outputs": [
    {
     "name": "stdout",
     "output_type": "stream",
     "text": [
      "06/10/2025\n",
      "07/10/2025\n"
     ]
    }
   ],
   "source": [
    "# Hiện tại\n",
    "d1 = Date(6, 10, 2025)\n",
    "d1.display()\n",
    "#Ngày tiếp\n",
    "d1.next()\n",
    "d1.display()"
   ]
  },
  {
   "cell_type": "markdown",
   "id": "4b09facf",
   "metadata": {},
   "source": [
    "Bài 8:"
   ]
  },
  {
   "cell_type": "code",
   "execution_count": 63,
   "id": "f510f10c",
   "metadata": {},
   "outputs": [],
   "source": [
    "class Date:\n",
    "\n",
    "    def __init__(self, day: int = 1, month: int = 1, year: int = 2000):\n",
    "        self.day = day\n",
    "        self.month = month\n",
    "        self.year = year\n",
    "\n",
    "    def display(self):\n",
    "        print(f\"{self.day:02d}/{self.month:02d}/{self.year}\")\n",
    "\n",
    "\n",
    "class Employee:\n",
    "\n",
    "    def __init__(self, name: str, birth: Date, hire: Date):\n",
    "        self.name = name\n",
    "        self.birth = birth\n",
    "        self.hire = hire\n",
    "\n",
    "    def display(self):\n",
    "        print(\"Họ tên nhân viên:\", self.name)\n",
    "        print(\"Ngày sinh:\", end=\" \")\n",
    "        self.birth.display()\n",
    "        print(\"Ngày vào công ty:\", end=\" \")\n",
    "        self.hire.display()"
   ]
  },
  {
   "cell_type": "code",
   "execution_count": 64,
   "id": "4ab295a3",
   "metadata": {},
   "outputs": [
    {
     "name": "stdout",
     "output_type": "stream",
     "text": [
      "Họ tên nhân viên: Nguyễn Chu Hoàng Minh\n",
      "Ngày sinh: 05/11/2006\n",
      "Ngày vào công ty: 06/10/2025\n"
     ]
    }
   ],
   "source": [
    "# Ứng dụng\n",
    "ngay_sinh = Date(5, 11, 2006)\n",
    "ngay_vao_cty = Date(6, 10, 2025)\n",
    "nv1 = Employee(\"Nguyễn Chu Hoàng Minh\", ngay_sinh, ngay_vao_cty)\n",
    "nv1.display()"
   ]
  },
  {
   "cell_type": "markdown",
   "id": "107d946b",
   "metadata": {},
   "source": [
    "Bài 9:"
   ]
  },
  {
   "cell_type": "code",
   "execution_count": 81,
   "id": "938251ab",
   "metadata": {},
   "outputs": [],
   "source": [
    "class DaGiac:\n",
    "    #Khởi tạo đa giác\n",
    "    def __init__(self, canh: int = 0):\n",
    "        self.canh = canh\n",
    "\n",
    "    #Ttin đa giác\n",
    "    def display(self):\n",
    "        print(f\"Đây là đa giác có {self.canh} cạnh.\")\n",
    "\n",
    "\n",
    "class HinhBinhHanh(DaGiac):\n",
    "    #Lớp hbh kế thừa từ đa giác\n",
    "\n",
    "    def __init__(self, day: float = 0, canh_ben: float = 0, chieu_cao: float = 0):\n",
    "        super().__init__(4)\n",
    "        self.day = day\n",
    "        self.canh_ben = canh_ben\n",
    "        self.chieu_cao = chieu_cao\n",
    "\n",
    "    #Cv hbh\n",
    "    def chu_vi(self):\n",
    "        return 2 * (self.day + self.canh_ben)\n",
    "\n",
    "    #Dt hbh\n",
    "    def dien_tich(self):\n",
    "        return self.day * self.chieu_cao\n",
    "\n",
    "    def display(self):\n",
    "        print(\"Hình bình hành:\")\n",
    "        print(f\"Đáy: {self.day}, Cạnh bên: {self.canh_ben}, Chiều cao: {self.chieu_cao}\")\n",
    "        print(f\"Chu vi: {self.chu_vi()}, Diện tích: {self.dien_tich()}\")\n",
    "\n",
    "\n",
    "class HinhChuNhat(HinhBinhHanh):\n",
    "    #Lớp hcn kế thừa từ hbh\n",
    "\n",
    "    def __init__(self, chieu_dai: float = 0, chieu_rong: float = 0):\n",
    "        super().__init__(chieu_dai, chieu_rong, chieu_rong)\n",
    "\n",
    "    #Dt hcn\n",
    "    def dien_tich(self):\n",
    "        return self.day * self.canh_ben\n",
    "\n",
    "    def display(self):\n",
    "        print(\"Hình chữ nhật:\")\n",
    "        print(f\"Chiều dài: {self.day}, Chiều rộng: {self.canh_ben}\")\n",
    "        print(f\"Chu vi: {self.chu_vi()}, Diện tích: {self.dien_tich()}\")\n",
    "\n",
    "\n",
    "class HinhVuong(HinhChuNhat):\n",
    "    #Lớp hv kế thừa từ hcn\n",
    "\n",
    "    def __init__(self, canh: float = 0):\n",
    "        super().__init__(canh, canh)\n",
    "\n",
    "    def display(self):\n",
    "        print(\"Hình vuông:\")\n",
    "        print(f\"Cạnh: {self.day}\")\n",
    "        print(f\"Chu vi: {self.chu_vi()}, Diện tích: {self.dien_tich()}\")"
   ]
  },
  {
   "cell_type": "code",
   "execution_count": 82,
   "id": "ee92b0ba",
   "metadata": {},
   "outputs": [
    {
     "name": "stdout",
     "output_type": "stream",
     "text": [
      "Hình bình hành:\n",
      "Đáy: 6, Cạnh bên: 4, Chiều cao: 3\n",
      "Chu vi: 20, Diện tích: 18\n",
      "\n",
      "Hình chữ nhật:\n",
      "Chiều dài: 8, Chiều rộng: 5\n",
      "Chu vi: 26, Diện tích: 40\n",
      "\n",
      "Hình vuông:\n",
      "Cạnh: 4\n",
      "Chu vi: 16, Diện tích: 16\n"
     ]
    }
   ],
   "source": [
    "# Ứng dụng\n",
    "\n",
    "hb = HinhBinhHanh(6, 4, 3)\n",
    "hb.display()\n",
    "\n",
    "print()\n",
    "hcn = HinhChuNhat(8, 5)\n",
    "hcn.display()\n",
    "\n",
    "print()\n",
    "hv = HinhVuong(4)\n",
    "hv.display()"
   ]
  },
  {
   "cell_type": "markdown",
   "id": "0fca48de",
   "metadata": {},
   "source": [
    "Bài 10:"
   ]
  },
  {
   "cell_type": "code",
   "execution_count": 70,
   "id": "d4a0b7d2",
   "metadata": {},
   "outputs": [],
   "source": [
    "import math\n",
    "\n",
    "class Diem:\n",
    "    #Lớp Diem mô tả một điểm trong mặt phẳng tọa độ\n",
    "\n",
    "    def __init__(self, x: float = 0, y: float = 0):\n",
    "        self.x = x\n",
    "        self.y = y\n",
    "\n",
    "    def display(self):\n",
    "        print(f\"Tọa độ điểm: ({self.x}, {self.y})\")\n",
    "\n",
    "\n",
    "class Elip(Diem):\n",
    "    #Lớp Elip kế thừa từ lớp Diem\n",
    "\n",
    "    def __init__(self, x: float = 0, y: float = 0, truc_lon: float = 0, truc_nho: float = 0):\n",
    "        super().__init__(x, y)\n",
    "        self.truc_lon = truc_lon\n",
    "        self.truc_nho = truc_nho\n",
    "\n",
    "    def dien_tich(self):\n",
    "        return math.pi * self.truc_lon * self.truc_nho\n",
    "\n",
    "    def display(self):\n",
    "        print(\"Elip:\")\n",
    "        print(f\"Tâm: ({self.x}, {self.y})\")\n",
    "        print(f\"Trục lớn: {self.truc_lon}, Trục nhỏ: {self.truc_nho}\")\n",
    "        print(f\"Diện tích: {self.dien_tich():.2f}\")\n",
    "\n",
    "\n",
    "class DuongTron(Elip):\n",
    "    #Lớp Đường Tròn kế thừa từ lớp Elip\n",
    "\n",
    "    def __init__(self, x: float = 0, y: float = 0, ban_kinh: float = 0):\n",
    "        super().__init__(x, y, ban_kinh, ban_kinh)\n",
    "\n",
    "    def display(self):\n",
    "        print(\"Đường tròn:\")\n",
    "        print(f\"Tâm: ({self.x}, {self.y})\")\n",
    "        print(f\"Bán kính: {self.truc_lon}\")\n",
    "        print(f\"Diện tích: {self.dien_tich():.2f}\")"
   ]
  },
  {
   "cell_type": "code",
   "execution_count": 71,
   "id": "1ab59d9b",
   "metadata": {},
   "outputs": [
    {
     "name": "stdout",
     "output_type": "stream",
     "text": [
      "Tọa độ điểm: (2, 3)\n",
      "\n",
      "Elip:\n",
      "Tâm: (0, 0)\n",
      "Trục lớn: 5, Trục nhỏ: 3\n",
      "Diện tích: 47.12\n",
      "\n",
      "Đường tròn:\n",
      "Tâm: (1, 1)\n",
      "Bán kính: 4\n",
      "Diện tích: 50.27\n"
     ]
    }
   ],
   "source": [
    "# Ứng dụng\n",
    "d = Diem(2, 3)\n",
    "d.display()\n",
    "\n",
    "print()\n",
    "e = Elip(0, 0, 5, 3)\n",
    "e.display()\n",
    "\n",
    "print()\n",
    "c = DuongTron(1, 1, 4)\n",
    "c.display()"
   ]
  },
  {
   "cell_type": "markdown",
   "id": "3efef570",
   "metadata": {},
   "source": [
    "Bài 11:"
   ]
  },
  {
   "cell_type": "code",
   "execution_count": 72,
   "id": "80ce4e72",
   "metadata": {},
   "outputs": [
    {
     "name": "stdout",
     "output_type": "stream",
     "text": [
      "Tam giác:\n",
      "Cạnh a: 3, b: 4, c: 5\n",
      "Chu vi: 12.00, Diện tích: 6.00\n",
      "\n",
      "Tam giác vuông:\n",
      "Cạnh góc vuông 1: 3, Cạnh góc vuông 2: 4\n",
      "Cạnh huyền: 5.0\n",
      "Chu vi: 12.00, Diện tích: 6.00\n",
      "\n",
      "Tam giác cân:\n",
      "Cạnh bên: 5, Cạnh đáy: 6\n",
      "Chu vi: 16.00, Diện tích: 12.00\n",
      "\n",
      "Tam giác đều:\n",
      "Cạnh: 4\n",
      "Chu vi: 12.00, Diện tích: 6.93\n"
     ]
    }
   ],
   "source": [
    "import math\n",
    "\n",
    "class TamGiac:\n",
    "    #Lớp TamGiac mô tả một tam giác chung\n",
    "\n",
    "    def __init__(self, a: float = 0, b: float = 0, c: float = 0):\n",
    "        self.a = a\n",
    "        self.b = b\n",
    "        self.c = c\n",
    "\n",
    "    def chu_vi(self):\n",
    "        return self.a + self.b + self.c\n",
    "\n",
    "    def dien_tich(self):\n",
    "        p = self.chu_vi() / 2\n",
    "        return math.sqrt(p * (p - self.a) * (p - self.b) * (p - self.c))\n",
    "\n",
    "    def display(self):\n",
    "        print(\"Tam giác:\")\n",
    "        print(f\"Cạnh a: {self.a}, b: {self.b}, c: {self.c}\")\n",
    "        print(f\"Chu vi: {self.chu_vi():.2f}, Diện tích: {self.dien_tich():.2f}\")\n",
    "\n",
    "\n",
    "class TamGiacVuong(TamGiac):\n",
    "    #Lớp TamGiacVuong kế thừa từ lớp TamGiac\n",
    "\n",
    "    def __init__(self, canh_goc_vuong1: float = 0, canh_goc_vuong2: float = 0):\n",
    "        c = math.sqrt(canh_goc_vuong1**2 + canh_goc_vuong2**2)\n",
    "        super().__init__(canh_goc_vuong1, canh_goc_vuong2, c)\n",
    "\n",
    "    def display(self):\n",
    "        print(\"Tam giác vuông:\")\n",
    "        print(f\"Cạnh góc vuông 1: {self.a}, Cạnh góc vuông 2: {self.b}\")\n",
    "        print(f\"Cạnh huyền: {self.c}\")\n",
    "        print(f\"Chu vi: {self.chu_vi():.2f}, Diện tích: {self.dien_tich():.2f}\")\n",
    "\n",
    "\n",
    "class TamGiacCan(TamGiac):\n",
    "    \"\"\"Lớp TamGiacCan kế thừa từ lớp TamGiac.\"\"\"\n",
    "\n",
    "    def __init__(self, canh_day: float = 0, canh_ben: float = 0):\n",
    "        super().__init__(canh_ben, canh_ben, canh_day)\n",
    "\n",
    "    def display(self):\n",
    "        print(\"Tam giác cân:\")\n",
    "        print(f\"Cạnh bên: {self.a}, Cạnh đáy: {self.c}\")\n",
    "        print(f\"Chu vi: {self.chu_vi():.2f}, Diện tích: {self.dien_tich():.2f}\")\n",
    "\n",
    "\n",
    "class TamGiacDeu(TamGiacCan):\n",
    "    #Lớp TamGiacDeu kế thừa từ lớp TamGiacCan\n",
    "\n",
    "    def __init__(self, canh: float = 0):\n",
    "        super().__init__(canh, canh)\n",
    "\n",
    "    def display(self):\n",
    "        print(\"Tam giác đều:\")\n",
    "        print(f\"Cạnh: {self.a}\")\n",
    "        print(f\"Chu vi: {self.chu_vi():.2f}, Diện tích: {self.dien_tich():.2f}\")\n",
    "\n",
    "\n",
    "# Ứng dụng\n",
    "tg = TamGiac(3, 4, 5)\n",
    "tg.display()\n",
    "\n",
    "print()\n",
    "tgv = TamGiacVuong(3, 4)\n",
    "tgv.display()\n",
    "\n",
    "print()\n",
    "tgc = TamGiacCan(6, 5)\n",
    "tgc.display()\n",
    "\n",
    "print()\n",
    "tgd = TamGiacDeu(4)\n",
    "tgd.display()\n"
   ]
  }
 ],
 "metadata": {
  "kernelspec": {
   "display_name": "Python 3",
   "language": "python",
   "name": "python3"
  },
  "language_info": {
   "codemirror_mode": {
    "name": "ipython",
    "version": 3
   },
   "file_extension": ".py",
   "mimetype": "text/x-python",
   "name": "python",
   "nbconvert_exporter": "python",
   "pygments_lexer": "ipython3",
   "version": "3.13.0"
  }
 },
 "nbformat": 4,
 "nbformat_minor": 5
}
